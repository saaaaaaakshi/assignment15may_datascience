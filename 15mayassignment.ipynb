{
 "cells": [
  {
   "cell_type": "code",
   "execution_count": 1,
   "id": "c4c20705-aebd-4314-9978-f3802c4365a9",
   "metadata": {},
   "outputs": [],
   "source": [
    "#ans 1\n",
    "#Comments are identified in python using a hash symbol these symbols explain the logic behind writing a line of code\n",
    "#different types of comments are ...separate line or multi line\n",
    "#they help to understand the code easily"
   ]
  },
  {
   "cell_type": "code",
   "execution_count": null,
   "id": "da71e626-93a9-4108-a412-38caf6a02878",
   "metadata": {},
   "outputs": [],
   "source": [
    "#ans2\n",
    "# A variable is created when some value is assign to it.\n",
    "#using assignment operator'=' we can assign values to the variables\n",
    "#there are some rules for naming a variable a variable name never start with numeric character or special character except'_'."
   ]
  },
  {
   "cell_type": "code",
   "execution_count": null,
   "id": "a79eeaaa-7ca0-49ff-80c5-6299c3d45c47",
   "metadata": {},
   "outputs": [],
   "source": [
    "#ans3\n",
    "#we can convert one data type to other using type conversion. this is also called typecasting.\n",
    "#This can be done with the help of str(), int(), float(), etc  functions."
   ]
  },
  {
   "cell_type": "code",
   "execution_count": null,
   "id": "601d8c8f-d76e-4842-8d78-b03215a755f9",
   "metadata": {},
   "outputs": [],
   "source": [
    "#ans4\n",
    "#The most basic and easy way to run a Python script is by using the python command.\n",
    "#You need to open a command line and type the word python followed by the path to your script file like this: python first_script.py Hello World!\n",
    "#Then you hit the ENTER button from the keyboard, and that's it."
   ]
  },
  {
   "cell_type": "code",
   "execution_count": 5,
   "id": "0f0a9440-ae1e-41b7-a833-86d060d05675",
   "metadata": {},
   "outputs": [
    {
     "data": {
      "text/plain": [
       "[2, 3]"
      ]
     },
     "execution_count": 5,
     "metadata": {},
     "output_type": "execute_result"
    }
   ],
   "source": [
    "#ans5\n",
    "my_list=[1,2,3,4,5]\n",
    "my_list[1:3]\n"
   ]
  },
  {
   "cell_type": "code",
   "execution_count": null,
   "id": "a8e676fa-e208-41f4-a84b-2dcfb595445c",
   "metadata": {},
   "outputs": [],
   "source": [
    "#ans6\n",
    "#complex number is combination of real and imaginary part\n",
    "c=6+7j\n",
    "#it is represented in python as shown above\n",
    "#we can't use any other variable except j to represent its imaginary part"
   ]
  },
  {
   "cell_type": "code",
   "execution_count": null,
   "id": "395f21b3-b136-4128-84f2-2cd0c5ba7acc",
   "metadata": {},
   "outputs": [],
   "source": [
    "#ans7\n",
    "age=25"
   ]
  },
  {
   "cell_type": "code",
   "execution_count": 4,
   "id": "a00d1422-66c5-421c-8340-d9d12afc23a1",
   "metadata": {},
   "outputs": [
    {
     "data": {
      "text/plain": [
       "float"
      ]
     },
     "execution_count": 4,
     "metadata": {},
     "output_type": "execute_result"
    }
   ],
   "source": [
    "#ans 8\n",
    "price=9.99\n",
    "type(price)"
   ]
  },
  {
   "cell_type": "code",
   "execution_count": 3,
   "id": "e31bc25f-4b29-4e27-8c7e-b835bc152fe2",
   "metadata": {},
   "outputs": [
    {
     "name": "stdout",
     "output_type": "stream",
     "text": [
      "Sakshi Gupta\n"
     ]
    }
   ],
   "source": [
    "#ans9\n",
    "name=\"Sakshi Gupta\"\n",
    "print(name)\n",
    "#we will simply use print function"
   ]
  },
  {
   "cell_type": "code",
   "execution_count": 2,
   "id": "7d410a63-17fe-4fea-8716-045c04cd0717",
   "metadata": {},
   "outputs": [
    {
     "data": {
      "text/plain": [
       "'World'"
      ]
     },
     "execution_count": 2,
     "metadata": {},
     "output_type": "execute_result"
    }
   ],
   "source": [
    "#ans10\n",
    "s=\"Hello World!\"\n",
    "s[6:11]\n"
   ]
  },
  {
   "cell_type": "code",
   "execution_count": null,
   "id": "cba175a0-c869-496d-9c4a-64c4fd1572eb",
   "metadata": {},
   "outputs": [],
   "source": [
    "#ans11\n",
    "is_student=True"
   ]
  }
 ],
 "metadata": {
  "kernelspec": {
   "display_name": "Python 3 (ipykernel)",
   "language": "python",
   "name": "python3"
  },
  "language_info": {
   "codemirror_mode": {
    "name": "ipython",
    "version": 3
   },
   "file_extension": ".py",
   "mimetype": "text/x-python",
   "name": "python",
   "nbconvert_exporter": "python",
   "pygments_lexer": "ipython3",
   "version": "3.10.8"
  }
 },
 "nbformat": 4,
 "nbformat_minor": 5
}
